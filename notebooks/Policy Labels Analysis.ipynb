{
 "cells": [
  {
   "cell_type": "markdown",
   "metadata": {},
   "source": [
    "# Analysis of Policy Excerpt Sub-labels\n",
    "\n",
    "Researchers expressed interest in focussing on the sub-labels of policy. These sub-labels are:\n",
    "\n",
    "    ['OtherAdv',\n",
    "     'VictimAdv',\n",
    "     'Guns',\n",
    "     'InfoSharing',\n",
    "     'MentalHealth',\n",
    "     'Other',\n",
    "     'Practice',\n",
    "     'Immigration']\n",
    "     \n",
    "The following notebook will focus on only the excerpts that have the label policy, and analysis the composition of the sub labels of this topic. "
   ]
  },
  {
   "cell_type": "markdown",
   "metadata": {},
   "source": [
    "## Loading and Formatting Data"
   ]
  },
  {
   "cell_type": "code",
   "execution_count": 5,
   "metadata": {},
   "outputs": [
    {
     "name": "stderr",
     "output_type": "stream",
     "text": [
      "[nltk_data] Downloading package punkt to\n",
      "[nltk_data]     /Users/andreapagotto/nltk_data...\n",
      "[nltk_data]   Package punkt is already up-to-date!\n"
     ]
    }
   ],
   "source": [
    "import os\n",
    "import re\n",
    "import nltk\n",
    "from nltk import sent_tokenize\n",
    "import pandas as pd\n",
    "nltk.download('punkt')\n",
    "from sklearn.model_selection import train_test_split\n",
    "import matplotlib.pyplot as plt"
   ]
  },
  {
   "cell_type": "code",
   "execution_count": 6,
   "metadata": {},
   "outputs": [
    {
     "name": "stdout",
     "output_type": "stream",
     "text": [
      "['data/Vegas - All Excerpts - 7_15_2019.xlsx', 'data/Charleston - All Excerpts - 7_15_2019.xlsx', 'data/Marysville - All Excerpts - Final - 1_2_2019.xlsx', 'data/Isla Vista - All Excerpts - 1_2_2019.xlsx', 'data/Orlando - All Excerpts - 7_15_2019.xlsx', 'data/~$Isla Vista - All Excerpts - 1_2_2019.xlsx', 'data/San Bernardino - All Excerpts - 7_15_2019.xlsx', 'data/Newtown - All Excerpts - 1-2-2019.xlsx']\n"
     ]
    }
   ],
   "source": [
    "filepath = 'data/'\n",
    "filenames = [filepath+filename for filename in os.listdir('data/') if 'xlsx' in filename]\n",
    "print(filenames)\n",
    "\n",
    "DATA_COLUMN = 'excerpt'\n",
    "LABEL_COLUMN = 'label'\n",
    "label_list = [0, 1]\n",
    "max_sent = 5\n",
    "label = 'policy'\n",
    "# We'll set sequences to be at most 128 tokens long.\n",
    "MAX_SEQ_LENGTH = 128"
   ]
  },
  {
   "cell_type": "code",
   "execution_count": 7,
   "metadata": {},
   "outputs": [
    {
     "name": "stdout",
     "output_type": "stream",
     "text": [
      "data/Vegas - All Excerpts - 7_15_2019.xlsx\n",
      "['Code: Policy Applied', 'Code: Policy\\\\Advocacy by others Applied', 'Code: Policy\\\\Advocacy by victims families Applied', 'Code: Policy\\\\Guns Applied', 'Code: Policy\\\\Immigration Applied', 'Code: Policy\\\\Information Sharing Applied', 'Code: Policy\\\\Mental Health Applied', 'Code: Policy\\\\Other Applied', 'Code: Policy\\\\Practice Applied']\n",
      "(52, 10)\n",
      "data/Charleston - All Excerpts - 7_15_2019.xlsx\n",
      "['Code: Policy Applied', 'Code: Policy\\\\Advocacy by others Applied', 'Code: Policy\\\\Advocacy by victims families Applied', 'Code: Policy\\\\Guns Applied', 'Code: Policy\\\\Immigration Applied', 'Code: Policy\\\\Information Sharing Applied', 'Code: Policy\\\\Mental Health Applied', 'Code: Policy\\\\Other Applied', 'Code: Policy\\\\Practice Applied']\n",
      "(59, 10)\n",
      "data/Marysville - All Excerpts - Final - 1_2_2019.xlsx\n",
      "['POLICY', 'POLICY_Guns', 'POLICY_InfoSharing', 'POLICY_MentalHealth', 'POLICY_Other', 'POLICY_VictimAdv', 'POLICY_OtherAdv', 'POLICY_Practice']\n",
      "(16, 9)\n",
      "data/Isla Vista - All Excerpts - 1_2_2019.xlsx\n",
      "['POLICY', 'POLICY_Guns', 'POLICY_InfoSharing', 'POLICY_MentalHealth', 'POLICY_Other', 'POLICY_VictimAdv', 'POLICY_OtherAdv', 'POLICY_Practice']\n",
      "(272, 9)\n",
      "data/Orlando - All Excerpts - 7_15_2019.xlsx\n",
      "['Code: Policy Applied', 'Code: Policy\\\\Advocacy by others Applied', 'Code: Policy\\\\Advocacy by victims families Applied', 'Code: Policy\\\\Guns Applied', 'Code: Policy\\\\Immigration Applied', 'Code: Policy\\\\Information Sharing Applied', 'Code: Policy\\\\Mental Health Applied', 'Code: Policy\\\\Other Applied', 'Code: Policy\\\\Practice Applied']\n",
      "(50, 10)\n",
      "could not open:data/~$Isla Vista - All Excerpts - 1_2_2019.xlsx\n",
      "Unsupported format, or corrupt file: Expected BOF record; found b'\\x0eAndrea '\n",
      "data/San Bernardino - All Excerpts - 7_15_2019.xlsx\n",
      "['Code: Policy Applied', 'Code: Policy\\\\Advocacy by others Applied', 'Code: Policy\\\\Advocacy by victims families Applied', 'Code: Policy\\\\Guns Applied', 'Code: Policy\\\\Immigration Applied', 'Code: Policy\\\\Information Sharing Applied', 'Code: Policy\\\\Mental Health Applied', 'Code: Policy\\\\Other Applied', 'Code: Policy\\\\Practice Applied']\n",
      "(56, 10)\n",
      "data/Newtown - All Excerpts - 1-2-2019.xlsx\n",
      "['POLICY', 'POLICY_OtherAdv', 'POLICY_VictimAdv', 'POLICY_Guns', 'POLICY_InfoSharing', 'POLICY_MentalHealth', 'POLICY_Other', 'POLICY_Practice']\n",
      "(560, 9)\n"
     ]
    }
   ],
   "source": [
    "train_list = []\n",
    "test_list = []\n",
    "randn = 42\n",
    "for file_name in filenames:\n",
    "    try:\n",
    "        data = pd.read_excel(file_name, sheet_name='Dedoose Excerpts Export')\n",
    "        data = data.dropna(axis=0)\n",
    "        print(file_name)\n",
    "\n",
    "        # get relevant columns:\n",
    "        label_cols = [l for l in data.columns if label in l.lower()]\n",
    "        excerpt_col = [l for l in data.columns if DATA_COLUMN in l.lower()][0]\n",
    "        data_subcols = data.loc[:, label_cols+[excerpt_col]]\n",
    "\n",
    "        for colname in label_cols:\n",
    "            data_subcols = data_subcols.astype({colname: int})\n",
    "            id0 = [val not in [0, 1] for val in data_subcols.loc[:, colname]]\n",
    "            data_subcols.loc[id0, colname] = 0\n",
    "\n",
    "        #print(data_subcols.shape)\n",
    "        print(label_cols)\n",
    "\n",
    "        # filter out rows that do not have any policy subtype label\n",
    "        label_ids = data_subcols.loc[:, label_cols].sum(axis=1) > 1 \n",
    "        df_label = data_subcols.loc[label_ids,:]\n",
    "        #print(df_label.shape)\n",
    "\n",
    "        # filter out long excerpts\n",
    "\n",
    "        short_ex_ids = [len(sent_tokenize(sent))>max_sent for sent in df_label.loc[:, excerpt_col]]\n",
    "        df_label_short = df_label.loc[short_ex_ids, :]\n",
    "        print(df_label_short.shape)\n",
    "\n",
    "        # split into train and test dfs\n",
    "        train, test = train_test_split(df_label_short, test_size=0.25, random_state=randn)\n",
    "        #print(train.shape)\n",
    "        #print(test.shape)\n",
    "        train_list.append(train)\n",
    "        test_list.append(test)\n",
    "    except Exception as e:\n",
    "        print(\"could not open:\"+file_name)\n",
    "        print(e)"
   ]
  },
  {
   "cell_type": "code",
   "execution_count": 8,
   "metadata": {},
   "outputs": [],
   "source": [
    "# transform columns for all data frames to be the same\n",
    "col_dict = {\n",
    "    'OtherAdv': ['POLICY_OtherAdv', 'Code: Policy\\Advocacy by others Applied'],\n",
    "    'VictimAdv': ['POLICY_VictimAdv', 'Code: Policy\\Advocacy by victims families Applied'],\n",
    "    'Guns': [ 'POLICY_Guns', 'Code: Policy\\Guns Applied'],\n",
    "    'InfoSharing': ['POLICY_InfoSharing', 'Code: Policy\\Information Sharing Applied'],\n",
    "    'MentalHealth': ['POLICY_MentalHealth', 'Code: Policy\\Mental Health Applied'],\n",
    "    'Other': ['POLICY_Other', 'Code: Policy\\Other Applied'],\n",
    "    'Practice': ['POLICY_Practice', 'Code: Policy\\Practice Applied'],\n",
    "    'Immigration': ['Code: Policy\\Immigration Applied']\n",
    "}\n",
    "\n",
    "LABEL_COLUMNS = list(col_dict.keys())"
   ]
  },
  {
   "cell_type": "code",
   "execution_count": 9,
   "metadata": {},
   "outputs": [
    {
     "name": "stdout",
     "output_type": "stream",
     "text": [
      "(13, 10)\n",
      "(15, 10)\n",
      "(4, 9)\n",
      "(68, 9)\n",
      "(13, 10)\n",
      "(14, 10)\n",
      "(140, 9)\n",
      "(267, 9)\n",
      "(39, 10)\n",
      "(44, 10)\n",
      "(12, 9)\n",
      "(204, 9)\n",
      "(37, 10)\n",
      "(42, 10)\n",
      "(420, 9)\n",
      "(798, 9)\n"
     ]
    },
    {
     "data": {
      "text/html": [
       "<div>\n",
       "<style scoped>\n",
       "    .dataframe tbody tr th:only-of-type {\n",
       "        vertical-align: middle;\n",
       "    }\n",
       "\n",
       "    .dataframe tbody tr th {\n",
       "        vertical-align: top;\n",
       "    }\n",
       "\n",
       "    .dataframe thead th {\n",
       "        text-align: right;\n",
       "    }\n",
       "</style>\n",
       "<table border=\"1\" class=\"dataframe\">\n",
       "  <thead>\n",
       "    <tr style=\"text-align: right;\">\n",
       "      <th></th>\n",
       "      <th>OtherAdv</th>\n",
       "      <th>VictimAdv</th>\n",
       "      <th>Guns</th>\n",
       "      <th>InfoSharing</th>\n",
       "      <th>MentalHealth</th>\n",
       "      <th>Other</th>\n",
       "      <th>Practice</th>\n",
       "      <th>Immigration</th>\n",
       "    </tr>\n",
       "  </thead>\n",
       "  <tbody>\n",
       "    <tr>\n",
       "      <th>0</th>\n",
       "      <td>1</td>\n",
       "      <td>0</td>\n",
       "      <td>1</td>\n",
       "      <td>0</td>\n",
       "      <td>0</td>\n",
       "      <td>0</td>\n",
       "      <td>0</td>\n",
       "      <td>0</td>\n",
       "    </tr>\n",
       "    <tr>\n",
       "      <th>1</th>\n",
       "      <td>0</td>\n",
       "      <td>0</td>\n",
       "      <td>1</td>\n",
       "      <td>0</td>\n",
       "      <td>0</td>\n",
       "      <td>0</td>\n",
       "      <td>0</td>\n",
       "      <td>0</td>\n",
       "    </tr>\n",
       "    <tr>\n",
       "      <th>2</th>\n",
       "      <td>1</td>\n",
       "      <td>0</td>\n",
       "      <td>1</td>\n",
       "      <td>0</td>\n",
       "      <td>0</td>\n",
       "      <td>0</td>\n",
       "      <td>0</td>\n",
       "      <td>0</td>\n",
       "    </tr>\n",
       "    <tr>\n",
       "      <th>3</th>\n",
       "      <td>1</td>\n",
       "      <td>0</td>\n",
       "      <td>1</td>\n",
       "      <td>0</td>\n",
       "      <td>0</td>\n",
       "      <td>0</td>\n",
       "      <td>0</td>\n",
       "      <td>0</td>\n",
       "    </tr>\n",
       "    <tr>\n",
       "      <th>4</th>\n",
       "      <td>1</td>\n",
       "      <td>0</td>\n",
       "      <td>1</td>\n",
       "      <td>0</td>\n",
       "      <td>0</td>\n",
       "      <td>0</td>\n",
       "      <td>0</td>\n",
       "      <td>0</td>\n",
       "    </tr>\n",
       "  </tbody>\n",
       "</table>\n",
       "</div>"
      ],
      "text/plain": [
       "  OtherAdv VictimAdv Guns InfoSharing MentalHealth Other Practice Immigration\n",
       "0        1         0    1           0            0     0        0           0\n",
       "1        0         0    1           0            0     0        0           0\n",
       "2        1         0    1           0            0     0        0           0\n",
       "3        1         0    1           0            0     0        0           0\n",
       "4        1         0    1           0            0     0        0           0"
      ]
     },
     "execution_count": 9,
     "metadata": {},
     "output_type": "execute_result"
    }
   ],
   "source": [
    "def merge_dfs(df_list):\n",
    "    merged_df = pd.DataFrame(columns = list(col_dict.keys())+[DATA_COLUMN])\n",
    "\n",
    "    for df in df_list:\n",
    "        df_renamed = pd.DataFrame(columns = col_dict.keys(), index = df.index)\n",
    "        print(df.shape)\n",
    "\n",
    "        #renamed ex col\n",
    "        df_renamed[DATA_COLUMN] = df.loc[:,[l for l in df.columns if DATA_COLUMN in l.lower()][0]]\n",
    "\n",
    "        # make each dict in the list to have the columns in col_dict\n",
    "        for new_colname in col_dict.keys():\n",
    "            #check if df has subtype:\n",
    "            col = [colname for colname in df.columns if colname in col_dict[new_colname]]\n",
    "            if len(col) ==0:\n",
    "                df_renamed[new_colname] = 0\n",
    "            else:\n",
    "                df_renamed[new_colname] = df.loc[:, col]\n",
    "        merged_df = merged_df.append(df_renamed, ignore_index=True)\n",
    "    print(merged_df.shape)\n",
    "    return merged_df\n",
    "\n",
    "test_merged = merge_dfs(test_list)\n",
    "train_merged = merge_dfs(train_list)\n",
    "train_merged.loc[:, col_dict.keys()].head()"
   ]
  },
  {
   "cell_type": "markdown",
   "metadata": {},
   "source": [
    "## Individual Sub-Label Counts"
   ]
  },
  {
   "cell_type": "code",
   "execution_count": 6,
   "metadata": {},
   "outputs": [
    {
     "data": {
      "text/plain": [
       "Text(0.5, 1.0, 'Counts of Each Policy Sub-type')"
      ]
     },
     "execution_count": 6,
     "metadata": {},
     "output_type": "execute_result"
    },
    {
     "data": {
      "image/png": "[encoded data removed]",
      "text/plain": [
       "<Figure size 432x288 with 1 Axes>"
      ]
     },
     "metadata": {
      "needs_background": "light"
     },
     "output_type": "display_data"
    }
   ],
   "source": [
    "train_merged.loc[:, LABEL_COLUMNS].sum().plot.bar()\n",
    "plt.title(\"Counts of Each Policy Sub-type (train)\")"
   ]
  },
  {
   "cell_type": "code",
   "execution_count": 7,
   "metadata": {},
   "outputs": [
    {
     "data": {
      "text/plain": [
       "Text(0.5, 1.0, 'Counts of Each Policy Sub-type')"
      ]
     },
     "execution_count": 7,
     "metadata": {},
     "output_type": "execute_result"
    },
    {
     "data": {
      "image/png": "[encoded data removed]",
      "text/plain": [
       "<Figure size 432x288 with 1 Axes>"
      ]
     },
     "metadata": {
      "needs_background": "light"
     },
     "output_type": "display_data"
    }
   ],
   "source": [
    "test_merged.loc[:, LABEL_COLUMNS].sum(axis=0).plot.bar()\n",
    "plt.title(\"Counts of Each Policy Sub-type (test)\")"
   ]
  },
  {
   "cell_type": "code",
   "execution_count": 41,
   "metadata": {},
   "outputs": [
    {
     "data": {
      "text/html": [
       "<div>\n",
       "<style scoped>\n",
       "    .dataframe tbody tr th:only-of-type {\n",
       "        vertical-align: middle;\n",
       "    }\n",
       "\n",
       "    .dataframe tbody tr th {\n",
       "        vertical-align: top;\n",
       "    }\n",
       "\n",
       "    .dataframe thead th {\n",
       "        text-align: right;\n",
       "    }\n",
       "</style>\n",
       "<table border=\"1\" class=\"dataframe\">\n",
       "  <thead>\n",
       "    <tr style=\"text-align: right;\">\n",
       "      <th></th>\n",
       "      <th>OtherAdv</th>\n",
       "      <th>VictimAdv</th>\n",
       "      <th>Guns</th>\n",
       "      <th>InfoSharing</th>\n",
       "      <th>MentalHealth</th>\n",
       "      <th>Other</th>\n",
       "      <th>Practice</th>\n",
       "      <th>Immigration</th>\n",
       "      <th>excerpt</th>\n",
       "    </tr>\n",
       "  </thead>\n",
       "  <tbody>\n",
       "    <tr>\n",
       "      <th>0</th>\n",
       "      <td>1</td>\n",
       "      <td>0</td>\n",
       "      <td>1</td>\n",
       "      <td>0</td>\n",
       "      <td>0</td>\n",
       "      <td>0</td>\n",
       "      <td>0</td>\n",
       "      <td>0</td>\n",
       "      <td>﷯This reluctance is a mistake. The Las Vegas a...</td>\n",
       "    </tr>\n",
       "    <tr>\n",
       "      <th>1</th>\n",
       "      <td>0</td>\n",
       "      <td>0</td>\n",
       "      <td>1</td>\n",
       "      <td>0</td>\n",
       "      <td>0</td>\n",
       "      <td>0</td>\n",
       "      <td>0</td>\n",
       "      <td>0</td>\n",
       "      <td>Yes, guns are dangerous in the hands of a few....</td>\n",
       "    </tr>\n",
       "    <tr>\n",
       "      <th>2</th>\n",
       "      <td>0</td>\n",
       "      <td>0</td>\n",
       "      <td>1</td>\n",
       "      <td>0</td>\n",
       "      <td>0</td>\n",
       "      <td>0</td>\n",
       "      <td>0</td>\n",
       "      <td>0</td>\n",
       "      <td>Bills banning rapid-fire bump stocks and givin...</td>\n",
       "    </tr>\n",
       "    <tr>\n",
       "      <th>3</th>\n",
       "      <td>1</td>\n",
       "      <td>0</td>\n",
       "      <td>1</td>\n",
       "      <td>0</td>\n",
       "      <td>0</td>\n",
       "      <td>0</td>\n",
       "      <td>0</td>\n",
       "      <td>0</td>\n",
       "      <td>\"T his is a very familiar story. The Congress ...</td>\n",
       "    </tr>\n",
       "    <tr>\n",
       "      <th>4</th>\n",
       "      <td>0</td>\n",
       "      <td>0</td>\n",
       "      <td>1</td>\n",
       "      <td>0</td>\n",
       "      <td>0</td>\n",
       "      <td>0</td>\n",
       "      <td>0</td>\n",
       "      <td>0</td>\n",
       "      <td>Several days after the massacre, she captioned...</td>\n",
       "    </tr>\n",
       "  </tbody>\n",
       "</table>\n",
       "</div>"
      ],
      "text/plain": [
       "  OtherAdv VictimAdv Guns InfoSharing MentalHealth Other Practice Immigration  \\\n",
       "0        1         0    1           0            0     0        0           0   \n",
       "1        0         0    1           0            0     0        0           0   \n",
       "2        0         0    1           0            0     0        0           0   \n",
       "3        1         0    1           0            0     0        0           0   \n",
       "4        0         0    1           0            0     0        0           0   \n",
       "\n",
       "                                             excerpt  \n",
       "0  ﷯This reluctance is a mistake. The Las Vegas a...  \n",
       "1  Yes, guns are dangerous in the hands of a few....  \n",
       "2  Bills banning rapid-fire bump stocks and givin...  \n",
       "3  \"T his is a very familiar story. The Congress ...  \n",
       "4  Several days after the massacre, she captioned...  "
      ]
     },
     "execution_count": 41,
     "metadata": {},
     "output_type": "execute_result"
    }
   ],
   "source": [
    "full_merged = pd.concat([test_merged, train_merged])\n",
    "full_merged.head()"
   ]
  },
  {
   "cell_type": "code",
   "execution_count": 44,
   "metadata": {},
   "outputs": [
    {
     "data": {
      "text/plain": [
       "Text(0.5, 1.0, 'Counts of Number of Co-occuring Labels per Excerpt')"
      ]
     },
     "execution_count": 44,
     "metadata": {},
     "output_type": "execute_result"
    },
    {
     "data": {
      "image/png": "[encoded data removed]",
      "text/plain": [
       "<Figure size 1440x720 with 1 Axes>"
      ]
     },
     "metadata": {},
     "output_type": "display_data"
    }
   ],
   "source": [
    "full_merged.loc[:, LABEL_COLUMNS].sum(axis=1).plot.hist(bins = 50)\n",
    "plt.title(\"Counts of Number of Co-occuring Labels per Excerpt\")"
   ]
  },
  {
   "cell_type": "markdown",
   "metadata": {},
   "source": [
    "## Co-Occuring Label Counts"
   ]
  },
  {
   "cell_type": "markdown",
   "metadata": {},
   "source": [
    "This shows that most excerpts have one or two labels. Next we can analyze which two labels co-occur most frequently."
   ]
  },
  {
   "cell_type": "code",
   "execution_count": 45,
   "metadata": {},
   "outputs": [
    {
     "name": "stdout",
     "output_type": "stream",
     "text": [
      "{'MentalHealth+Practice', 'OtherAdv+Practice', 'OtherAdv+InfoSharing', 'VictimAdv+Guns', 'OtherAdv+Guns', 'Guns+InfoSharing', 'OtherAdv+MentalHealth', 'OtherAdv+Other', 'VictimAdv+InfoSharing', 'Guns+MentalHealth', 'Other+Practice', 'VictimAdv+Other', 'VictimAdv+Immigration', 'InfoSharing+MentalHealth', 'OtherAdv+Immigration', 'MentalHealth+Other', 'Guns+Other'}\n"
     ]
    }
   ],
   "source": [
    "occ2_labs = []\n",
    "for row in train_merged.loc[:, LABEL_COLUMNS].iterrows():\n",
    "    labs = row[1] == 1\n",
    "    if sum(labs) == 2:\n",
    "        #print(list(row[1].loc[labs.values].index))\n",
    "        occ2_labs.append('+'.join(list(row[1].loc[labs.values].index)))\n",
    "        \n",
    "print(set(occ2_labs))"
   ]
  },
  {
   "cell_type": "code",
   "execution_count": 46,
   "metadata": {},
   "outputs": [
    {
     "data": {
      "text/plain": [
       "Text(0.5, 1.0, 'Co-occuring label counts')"
      ]
     },
     "execution_count": 46,
     "metadata": {},
     "output_type": "execute_result"
    },
    {
     "data": {
      "image/png": "[encoded data removed]",
      "text/plain": [
       "<Figure size 1440x720 with 1 Axes>"
      ]
     },
     "metadata": {},
     "output_type": "display_data"
    }
   ],
   "source": [
    "from collections import Counter\n",
    "occ2_counts = Counter(occ2_labs)\n",
    "df2 = pd.DataFrame.from_dict(occ2_counts, orient='index')\n",
    "df2.plot.barh()\n",
    "plt.title(\"Co-occuring label counts\")"
   ]
  },
  {
   "cell_type": "code",
   "execution_count": 11,
   "metadata": {},
   "outputs": [
    {
     "name": "stdout",
     "output_type": "stream",
     "text": [
      "{'OtherAdv+Guns+MentalHealth', 'OtherAdv+Guns+InfoSharing', 'OtherAdv+MentalHealth+Practice', 'Guns+MentalHealth+Other', 'VictimAdv+MentalHealth+Practice', 'OtherAdv+VictimAdv+InfoSharing', 'OtherAdv+VictimAdv+Guns', 'Guns+MentalHealth+Practice', 'OtherAdv+Guns+Other'}\n"
     ]
    }
   ],
   "source": [
    "occ3_labs = []\n",
    "for row in train_merged.loc[:, LABEL_COLUMNS].iterrows():\n",
    "    labs = row[1] == 1\n",
    "    if sum(labs) == 3:\n",
    "        #print(list(row[1].loc[labs.values].index))\n",
    "        occ3_labs.append('+'.join(list(row[1].loc[labs.values].index)))\n",
    "        \n",
    "print(set(occ3_labs))"
   ]
  },
  {
   "cell_type": "code",
   "execution_count": 47,
   "metadata": {},
   "outputs": [
    {
     "data": {
      "text/plain": [
       "Text(0.5, 1.0, 'Co-occuring label counts')"
      ]
     },
     "execution_count": 47,
     "metadata": {},
     "output_type": "execute_result"
    },
    {
     "data": {
      "image/png": "[encoded data removed]",
      "text/plain": [
       "<Figure size 1440x720 with 1 Axes>"
      ]
     },
     "metadata": {},
     "output_type": "display_data"
    }
   ],
   "source": [
    "occ3_counts = Counter(occ3_labs)\n",
    "df3 = pd.DataFrame.from_dict(occ3_counts, orient='index')\n",
    "df3.plot.barh()\n",
    "plt.title(\"Co-occuring label counts\")"
   ]
  },
  {
   "cell_type": "markdown",
   "metadata": {},
   "source": [
    "## Top Occurring Subset of Labels 1-3"
   ]
  },
  {
   "cell_type": "code",
   "execution_count": 48,
   "metadata": {},
   "outputs": [],
   "source": [
    "labs_counts = []\n",
    "for row in train_merged.loc[:, LABEL_COLUMNS].iterrows():\n",
    "    labs = row[1] == 1\n",
    "    if sum(labs) > 0: # any labl\n",
    "        labs_counts.append('+'.join(list(row[1].loc[labs.values].index)))\n",
    "        \n",
    "test_labs_counts = []\n",
    "for row in test_merged.loc[:, LABEL_COLUMNS].iterrows():\n",
    "    labs = row[1] == 1\n",
    "    if sum(labs) > 0: # any labl\n",
    "        test_labs_counts.append('+'.join(list(row[1].loc[labs.values].index)))"
   ]
  },
  {
   "cell_type": "code",
   "execution_count": 49,
   "metadata": {},
   "outputs": [
    {
     "data": {
      "text/plain": [
       "<Figure size 1440x1440 with 0 Axes>"
      ]
     },
     "metadata": {},
     "output_type": "display_data"
    },
    {
     "data": {
      "image/png": "[encoded data removed]",
      "text/plain": [
       "<Figure size 1440x720 with 1 Axes>"
      ]
     },
     "metadata": {},
     "output_type": "display_data"
    }
   ],
   "source": [
    "#import seaborn as sns\n",
    "#plt.style.use('classic')\n",
    "#%matplotlib notebook\n",
    "#%matplotlib ipympl\n",
    "#%matplotlib inline\n",
    "\n",
    "plt.figure(figsize = (20, 20))\n",
    "\n",
    "occ_counts = Counter(labs_counts)\n",
    "df = pd.DataFrame.from_dict(occ_counts, orient='index').sort_values(by = 0)\n",
    "df.columns = [\"train\"]\n",
    "\n",
    "test_occ_counts = Counter(test_labs_counts)\n",
    "tdf = pd.DataFrame.from_dict(test_occ_counts, orient='index')\n",
    "df['test'] = tdf\n",
    "\n",
    "df.plot.barh(width = 1.5)\n",
    "plt.title(\"Label Counts\")\n",
    "plt.savefig('labelcounts.png')\n",
    "plt.show()"
   ]
  },
  {
   "cell_type": "code",
   "execution_count": 50,
   "metadata": {},
   "outputs": [
    {
     "data": {
      "image/png": "[encoded data removed]",
      "text/plain": [
       "<Figure size 421.225x360 with 1 Axes>"
      ]
     },
     "metadata": {},
     "output_type": "display_data"
    }
   ],
   "source": [
    "import seaborn as sns\n",
    "df['combined_labels'] = list(df.index)\n",
    "\n",
    "plt.rcParams[\"figure.figsize\"] = (20,10)\n",
    "sns.set(style=\"whitegrid\")\n",
    "snsdf = pd.melt(df, id_vars=\"combined_labels\", var_name=\"data\", value_name=\"label count\")\n",
    "#sns.factorplot(x='label count', y='combined_labels', hue='data', data=snsdf, kind='bar')\n",
    "sns.catplot(x='label count', y='combined_labels', hue='data', data=snsdf, kind='bar')\n",
    "plt.savefig('snslabelcounts.png')"
   ]
  },
  {
   "cell_type": "code",
   "execution_count": 38,
   "metadata": {},
   "outputs": [
    {
     "data": {
      "application/vnd.plotly.v1+json": {
       "config": {
        "plotlyServerURL": "https://plot.ly"
       },
       "data": [
        {
         "name": "train",
         "type": "bar",
         "x": [
          "OtherAdv+Guns+MentalHealth+Other",
          "VictimAdv+Other",
          "VictimAdv+Immigration",
          "MentalHealth+Other",
          "OtherAdv+Guns+InfoSharing",
          "VictimAdv+MentalHealth+Practice",
          "OtherAdv+Guns+Other",
          "Guns+MentalHealth+Practice",
          "InfoSharing+MentalHealth",
          "OtherAdv+MentalHealth+Practice",
          "VictimAdv+Guns+MentalHealth+Other",
          "MentalHealth+Practice",
          "OtherAdv+VictimAdv+InfoSharing",
          "Immigration",
          "Guns+Other",
          "Guns+MentalHealth+Other",
          "Other+Practice",
          "VictimAdv+InfoSharing",
          "Guns+InfoSharing",
          "OtherAdv+Immigration",
          "OtherAdv+Practice",
          "OtherAdv",
          "OtherAdv+InfoSharing",
          "OtherAdv+VictimAdv+Guns",
          "VictimAdv+Guns",
          "InfoSharing",
          "OtherAdv+Guns+MentalHealth",
          "OtherAdv+MentalHealth",
          "OtherAdv+Other",
          "Practice",
          "Other",
          "MentalHealth",
          "Guns+MentalHealth",
          "OtherAdv+Guns",
          "Guns"
         ],
         "y": [
          1,
          1,
          1,
          1,
          1,
          1,
          1,
          1,
          1,
          1,
          2,
          2,
          2,
          2,
          2,
          3,
          3,
          4,
          4,
          7,
          9,
          10,
          11,
          14,
          15,
          18,
          18,
          19,
          28,
          30,
          36,
          53,
          71,
          202,
          223
         ]
        },
        {
         "name": "test",
         "type": "bar",
         "x": [
          "OtherAdv+Guns+MentalHealth+Other",
          "VictimAdv+Other",
          "VictimAdv+Immigration",
          "MentalHealth+Other",
          "OtherAdv+Guns+InfoSharing",
          "VictimAdv+MentalHealth+Practice",
          "OtherAdv+Guns+Other",
          "Guns+MentalHealth+Practice",
          "InfoSharing+MentalHealth",
          "OtherAdv+MentalHealth+Practice",
          "VictimAdv+Guns+MentalHealth+Other",
          "MentalHealth+Practice",
          "OtherAdv+VictimAdv+InfoSharing",
          "Immigration",
          "Guns+Other",
          "Guns+MentalHealth+Other",
          "Other+Practice",
          "VictimAdv+InfoSharing",
          "Guns+InfoSharing",
          "OtherAdv+Immigration",
          "OtherAdv+Practice",
          "OtherAdv",
          "OtherAdv+InfoSharing",
          "OtherAdv+VictimAdv+Guns",
          "VictimAdv+Guns",
          "InfoSharing",
          "OtherAdv+Guns+MentalHealth",
          "OtherAdv+MentalHealth",
          "OtherAdv+Other",
          "Practice",
          "Other",
          "MentalHealth",
          "Guns+MentalHealth",
          "OtherAdv+Guns",
          "Guns"
         ],
         "y": [
          null,
          null,
          null,
          2,
          1,
          null,
          1,
          null,
          null,
          null,
          null,
          null,
          1,
          null,
          1,
          null,
          3,
          null,
          null,
          2,
          2,
          3,
          4,
          1,
          5,
          3,
          8,
          2,
          12,
          14,
          10,
          20,
          23,
          63,
          80
         ]
        }
       ],
       "layout": {
        "barmode": "stack",
        "template": {
         "data": {
          "bar": [
           {
            "error_x": {
             "color": "#2a3f5f"
            },
            "error_y": {
             "color": "#2a3f5f"
            },
            "marker": {
             "line": {
              "color": "#E5ECF6",
              "width": 0.5
             }
            },
            "type": "bar"
           }
          ],
          "barpolar": [
           {
            "marker": {
             "line": {
              "color": "#E5ECF6",
              "width": 0.5
             }
            },
            "type": "barpolar"
           }
          ],
          "carpet": [
           {
            "aaxis": {
             "endlinecolor": "#2a3f5f",
             "gridcolor": "white",
             "linecolor": "white",
             "minorgridcolor": "white",
             "startlinecolor": "#2a3f5f"
            },
            "baxis": {
             "endlinecolor": "#2a3f5f",
             "gridcolor": "white",
             "linecolor": "white",
             "minorgridcolor": "white",
             "startlinecolor": "#2a3f5f"
            },
            "type": "carpet"
           }
          ],
          "choropleth": [
           {
            "colorbar": {
             "outlinewidth": 0,
             "ticks": ""
            },
            "type": "choropleth"
           }
          ],
          "contour": [
           {
            "colorbar": {
             "outlinewidth": 0,
             "ticks": ""
            },
            "colorscale": [
             [
              0,
              "#0d0887"
             ],
             [
              0.1111111111111111,
              "#46039f"
             ],
             [
              0.2222222222222222,
              "#7201a8"
             ],
             [
              0.3333333333333333,
              "#9c179e"
             ],
             [
              0.4444444444444444,
              "#bd3786"
             ],
             [
              0.5555555555555556,
              "#d8576b"
             ],
             [
              0.6666666666666666,
              "#ed7953"
             ],
             [
              0.7777777777777778,
              "#fb9f3a"
             ],
             [
              0.8888888888888888,
              "#fdca26"
             ],
             [
              1,
              "#f0f921"
             ]
            ],
            "type": "contour"
           }
          ],
          "contourcarpet": [
           {
            "colorbar": {
             "outlinewidth": 0,
             "ticks": ""
            },
            "type": "contourcarpet"
           }
          ],
          "heatmap": [
           {
            "colorbar": {
             "outlinewidth": 0,
             "ticks": ""
            },
            "colorscale": [
             [
              0,
              "#0d0887"
             ],
             [
              0.1111111111111111,
              "#46039f"
             ],
             [
              0.2222222222222222,
              "#7201a8"
             ],
             [
              0.3333333333333333,
              "#9c179e"
             ],
             [
              0.4444444444444444,
              "#bd3786"
             ],
             [
              0.5555555555555556,
              "#d8576b"
             ],
             [
              0.6666666666666666,
              "#ed7953"
             ],
             [
              0.7777777777777778,
              "#fb9f3a"
             ],
             [
              0.8888888888888888,
              "#fdca26"
             ],
             [
              1,
              "#f0f921"
             ]
            ],
            "type": "heatmap"
           }
          ],
          "heatmapgl": [
           {
            "colorbar": {
             "outlinewidth": 0,
             "ticks": ""
            },
            "colorscale": [
             [
              0,
              "#0d0887"
             ],
             [
              0.1111111111111111,
              "#46039f"
             ],
             [
              0.2222222222222222,
              "#7201a8"
             ],
             [
              0.3333333333333333,
              "#9c179e"
             ],
             [
              0.4444444444444444,
              "#bd3786"
             ],
             [
              0.5555555555555556,
              "#d8576b"
             ],
             [
              0.6666666666666666,
              "#ed7953"
             ],
             [
              0.7777777777777778,
              "#fb9f3a"
             ],
             [
              0.8888888888888888,
              "#fdca26"
             ],
             [
              1,
              "#f0f921"
             ]
            ],
            "type": "heatmapgl"
           }
          ],
          "histogram": [
           {
            "marker": {
             "colorbar": {
              "outlinewidth": 0,
              "ticks": ""
             }
            },
            "type": "histogram"
           }
          ],
          "histogram2d": [
           {
            "colorbar": {
             "outlinewidth": 0,
             "ticks": ""
            },
            "colorscale": [
             [
              0,
              "#0d0887"
             ],
             [
              0.1111111111111111,
              "#46039f"
             ],
             [
              0.2222222222222222,
              "#7201a8"
             ],
             [
              0.3333333333333333,
              "#9c179e"
             ],
             [
              0.4444444444444444,
              "#bd3786"
             ],
             [
              0.5555555555555556,
              "#d8576b"
             ],
             [
              0.6666666666666666,
              "#ed7953"
             ],
             [
              0.7777777777777778,
              "#fb9f3a"
             ],
             [
              0.8888888888888888,
              "#fdca26"
             ],
             [
              1,
              "#f0f921"
             ]
            ],
            "type": "histogram2d"
           }
          ],
          "histogram2dcontour": [
           {
            "colorbar": {
             "outlinewidth": 0,
             "ticks": ""
            },
            "colorscale": [
             [
              0,
              "#0d0887"
             ],
             [
              0.1111111111111111,
              "#46039f"
             ],
             [
              0.2222222222222222,
              "#7201a8"
             ],
             [
              0.3333333333333333,
              "#9c179e"
             ],
             [
              0.4444444444444444,
              "#bd3786"
             ],
             [
              0.5555555555555556,
              "#d8576b"
             ],
             [
              0.6666666666666666,
              "#ed7953"
             ],
             [
              0.7777777777777778,
              "#fb9f3a"
             ],
             [
              0.8888888888888888,
              "#fdca26"
             ],
             [
              1,
              "#f0f921"
             ]
            ],
            "type": "histogram2dcontour"
           }
          ],
          "mesh3d": [
           {
            "colorbar": {
             "outlinewidth": 0,
             "ticks": ""
            },
            "type": "mesh3d"
           }
          ],
          "parcoords": [
           {
            "line": {
             "colorbar": {
              "outlinewidth": 0,
              "ticks": ""
             }
            },
            "type": "parcoords"
           }
          ],
          "scatter": [
           {
            "marker": {
             "colorbar": {
              "outlinewidth": 0,
              "ticks": ""
             }
            },
            "type": "scatter"
           }
          ],
          "scatter3d": [
           {
            "line": {
             "colorbar": {
              "outlinewidth": 0,
              "ticks": ""
             }
            },
            "marker": {
             "colorbar": {
              "outlinewidth": 0,
              "ticks": ""
             }
            },
            "type": "scatter3d"
           }
          ],
          "scattercarpet": [
           {
            "marker": {
             "colorbar": {
              "outlinewidth": 0,
              "ticks": ""
             }
            },
            "type": "scattercarpet"
           }
          ],
          "scattergeo": [
           {
            "marker": {
             "colorbar": {
              "outlinewidth": 0,
              "ticks": ""
             }
            },
            "type": "scattergeo"
           }
          ],
          "scattergl": [
           {
            "marker": {
             "colorbar": {
              "outlinewidth": 0,
              "ticks": ""
             }
            },
            "type": "scattergl"
           }
          ],
          "scattermapbox": [
           {
            "marker": {
             "colorbar": {
              "outlinewidth": 0,
              "ticks": ""
             }
            },
            "type": "scattermapbox"
           }
          ],
          "scatterpolar": [
           {
            "marker": {
             "colorbar": {
              "outlinewidth": 0,
              "ticks": ""
             }
            },
            "type": "scatterpolar"
           }
          ],
          "scatterpolargl": [
           {
            "marker": {
             "colorbar": {
              "outlinewidth": 0,
              "ticks": ""
             }
            },
            "type": "scatterpolargl"
           }
          ],
          "scatterternary": [
           {
            "marker": {
             "colorbar": {
              "outlinewidth": 0,
              "ticks": ""
             }
            },
            "type": "scatterternary"
           }
          ],
          "surface": [
           {
            "colorbar": {
             "outlinewidth": 0,
             "ticks": ""
            },
            "colorscale": [
             [
              0,
              "#0d0887"
             ],
             [
              0.1111111111111111,
              "#46039f"
             ],
             [
              0.2222222222222222,
              "#7201a8"
             ],
             [
              0.3333333333333333,
              "#9c179e"
             ],
             [
              0.4444444444444444,
              "#bd3786"
             ],
             [
              0.5555555555555556,
              "#d8576b"
             ],
             [
              0.6666666666666666,
              "#ed7953"
             ],
             [
              0.7777777777777778,
              "#fb9f3a"
             ],
             [
              0.8888888888888888,
              "#fdca26"
             ],
             [
              1,
              "#f0f921"
             ]
            ],
            "type": "surface"
           }
          ],
          "table": [
           {
            "cells": {
             "fill": {
              "color": "#EBF0F8"
             },
             "line": {
              "color": "white"
             }
            },
            "header": {
             "fill": {
              "color": "#C8D4E3"
             },
             "line": {
              "color": "white"
             }
            },
            "type": "table"
           }
          ]
         },
         "layout": {
          "annotationdefaults": {
           "arrowcolor": "#2a3f5f",
           "arrowhead": 0,
           "arrowwidth": 1
          },
          "colorscale": {
           "diverging": [
            [
             0,
             "#8e0152"
            ],
            [
             0.1,
             "#c51b7d"
            ],
            [
             0.2,
             "#de77ae"
            ],
            [
             0.3,
             "#f1b6da"
            ],
            [
             0.4,
             "#fde0ef"
            ],
            [
             0.5,
             "#f7f7f7"
            ],
            [
             0.6,
             "#e6f5d0"
            ],
            [
             0.7,
             "#b8e186"
            ],
            [
             0.8,
             "#7fbc41"
            ],
            [
             0.9,
             "#4d9221"
            ],
            [
             1,
             "#276419"
            ]
           ],
           "sequential": [
            [
             0,
             "#0d0887"
            ],
            [
             0.1111111111111111,
             "#46039f"
            ],
            [
             0.2222222222222222,
             "#7201a8"
            ],
            [
             0.3333333333333333,
             "#9c179e"
            ],
            [
             0.4444444444444444,
             "#bd3786"
            ],
            [
             0.5555555555555556,
             "#d8576b"
            ],
            [
             0.6666666666666666,
             "#ed7953"
            ],
            [
             0.7777777777777778,
             "#fb9f3a"
            ],
            [
             0.8888888888888888,
             "#fdca26"
            ],
            [
             1,
             "#f0f921"
            ]
           ],
           "sequentialminus": [
            [
             0,
             "#0d0887"
            ],
            [
             0.1111111111111111,
             "#46039f"
            ],
            [
             0.2222222222222222,
             "#7201a8"
            ],
            [
             0.3333333333333333,
             "#9c179e"
            ],
            [
             0.4444444444444444,
             "#bd3786"
            ],
            [
             0.5555555555555556,
             "#d8576b"
            ],
            [
             0.6666666666666666,
             "#ed7953"
            ],
            [
             0.7777777777777778,
             "#fb9f3a"
            ],
            [
             0.8888888888888888,
             "#fdca26"
            ],
            [
             1,
             "#f0f921"
            ]
           ]
          },
          "colorway": [
           "#636efa",
           "#EF553B",
           "#00cc96",
           "#ab63fa",
           "#FFA15A",
           "#19d3f3",
           "#FF6692",
           "#B6E880",
           "#FF97FF",
           "#FECB52"
          ],
          "font": {
           "color": "#2a3f5f"
          },
          "geo": {
           "bgcolor": "white",
           "lakecolor": "white",
           "landcolor": "#E5ECF6",
           "showlakes": true,
           "showland": true,
           "subunitcolor": "white"
          },
          "hoverlabel": {
           "align": "left"
          },
          "hovermode": "closest",
          "mapbox": {
           "style": "light"
          },
          "paper_bgcolor": "white",
          "plot_bgcolor": "#E5ECF6",
          "polar": {
           "angularaxis": {
            "gridcolor": "white",
            "linecolor": "white",
            "ticks": ""
           },
           "bgcolor": "#E5ECF6",
           "radialaxis": {
            "gridcolor": "white",
            "linecolor": "white",
            "ticks": ""
           }
          },
          "scene": {
           "xaxis": {
            "backgroundcolor": "#E5ECF6",
            "gridcolor": "white",
            "gridwidth": 2,
            "linecolor": "white",
            "showbackground": true,
            "ticks": "",
            "zerolinecolor": "white"
           },
           "yaxis": {
            "backgroundcolor": "#E5ECF6",
            "gridcolor": "white",
            "gridwidth": 2,
            "linecolor": "white",
            "showbackground": true,
            "ticks": "",
            "zerolinecolor": "white"
           },
           "zaxis": {
            "backgroundcolor": "#E5ECF6",
            "gridcolor": "white",
            "gridwidth": 2,
            "linecolor": "white",
            "showbackground": true,
            "ticks": "",
            "zerolinecolor": "white"
           }
          },
          "shapedefaults": {
           "line": {
            "color": "#2a3f5f"
           }
          },
          "ternary": {
           "aaxis": {
            "gridcolor": "white",
            "linecolor": "white",
            "ticks": ""
           },
           "baxis": {
            "gridcolor": "white",
            "linecolor": "white",
            "ticks": ""
           },
           "bgcolor": "#E5ECF6",
           "caxis": {
            "gridcolor": "white",
            "linecolor": "white",
            "ticks": ""
           }
          },
          "title": {
           "x": 0.05
          },
          "xaxis": {
           "automargin": true,
           "gridcolor": "white",
           "linecolor": "white",
           "ticks": "",
           "zerolinecolor": "white",
           "zerolinewidth": 2
          },
          "yaxis": {
           "automargin": true,
           "gridcolor": "white",
           "linecolor": "white",
           "ticks": "",
           "zerolinecolor": "white",
           "zerolinewidth": 2
          }
         }
        },
        "title": {
         "text": "Train and Test Label Counts"
        },
        "xaxis": {
         "tickangle": -45
        }
       }
      },
      "text/html": [
       "<div>\n",
       "        \n",
       "        \n",
       "            <div id=\"1d1e5171-6a8c-4721-a5e0-3c6a195adcbd\" class=\"plotly-graph-div\" style=\"height:525px; width:100%;\"></div>\n",
       "            <script type=\"text/javascript\">\n",
       "                require([\"plotly\"], function(Plotly) {\n",
       "                    window.PLOTLYENV=window.PLOTLYENV || {};\n",
       "                    \n",
       "                if (document.getElementById(\"1d1e5171-6a8c-4721-a5e0-3c6a195adcbd\")) {\n",
       "                    Plotly.newPlot(\n",
       "                        '1d1e5171-6a8c-4721-a5e0-3c6a195adcbd',\n",
       "                        [{\"name\": \"train\", \"type\": \"bar\", \"x\": [\"OtherAdv+Guns+MentalHealth+Other\", \"VictimAdv+Other\", \"VictimAdv+Immigration\", \"MentalHealth+Other\", \"OtherAdv+Guns+InfoSharing\", \"VictimAdv+MentalHealth+Practice\", \"OtherAdv+Guns+Other\", \"Guns+MentalHealth+Practice\", \"InfoSharing+MentalHealth\", \"OtherAdv+MentalHealth+Practice\", \"VictimAdv+Guns+MentalHealth+Other\", \"MentalHealth+Practice\", \"OtherAdv+VictimAdv+InfoSharing\", \"Immigration\", \"Guns+Other\", \"Guns+MentalHealth+Other\", \"Other+Practice\", \"VictimAdv+InfoSharing\", \"Guns+InfoSharing\", \"OtherAdv+Immigration\", \"OtherAdv+Practice\", \"OtherAdv\", \"OtherAdv+InfoSharing\", \"OtherAdv+VictimAdv+Guns\", \"VictimAdv+Guns\", \"InfoSharing\", \"OtherAdv+Guns+MentalHealth\", \"OtherAdv+MentalHealth\", \"OtherAdv+Other\", \"Practice\", \"Other\", \"MentalHealth\", \"Guns+MentalHealth\", \"OtherAdv+Guns\", \"Guns\"], \"y\": [1, 1, 1, 1, 1, 1, 1, 1, 1, 1, 2, 2, 2, 2, 2, 3, 3, 4, 4, 7, 9, 10, 11, 14, 15, 18, 18, 19, 28, 30, 36, 53, 71, 202, 223]}, {\"name\": \"test\", \"type\": \"bar\", \"x\": [\"OtherAdv+Guns+MentalHealth+Other\", \"VictimAdv+Other\", \"VictimAdv+Immigration\", \"MentalHealth+Other\", \"OtherAdv+Guns+InfoSharing\", \"VictimAdv+MentalHealth+Practice\", \"OtherAdv+Guns+Other\", \"Guns+MentalHealth+Practice\", \"InfoSharing+MentalHealth\", \"OtherAdv+MentalHealth+Practice\", \"VictimAdv+Guns+MentalHealth+Other\", \"MentalHealth+Practice\", \"OtherAdv+VictimAdv+InfoSharing\", \"Immigration\", \"Guns+Other\", \"Guns+MentalHealth+Other\", \"Other+Practice\", \"VictimAdv+InfoSharing\", \"Guns+InfoSharing\", \"OtherAdv+Immigration\", \"OtherAdv+Practice\", \"OtherAdv\", \"OtherAdv+InfoSharing\", \"OtherAdv+VictimAdv+Guns\", \"VictimAdv+Guns\", \"InfoSharing\", \"OtherAdv+Guns+MentalHealth\", \"OtherAdv+MentalHealth\", \"OtherAdv+Other\", \"Practice\", \"Other\", \"MentalHealth\", \"Guns+MentalHealth\", \"OtherAdv+Guns\", \"Guns\"], \"y\": [null, null, null, 2.0, 1.0, null, 1.0, null, null, null, null, null, 1.0, null, 1.0, null, 3.0, null, null, 2.0, 2.0, 3.0, 4.0, 1.0, 5.0, 3.0, 8.0, 2.0, 12.0, 14.0, 10.0, 20.0, 23.0, 63.0, 80.0]}],\n",
       "                        {\"barmode\": \"stack\", \"template\": {\"data\": {\"bar\": [{\"error_x\": {\"color\": \"#2a3f5f\"}, \"error_y\": {\"color\": \"#2a3f5f\"}, \"marker\": {\"line\": {\"color\": \"#E5ECF6\", \"width\": 0.5}}, \"type\": \"bar\"}], \"barpolar\": [{\"marker\": {\"line\": {\"color\": \"#E5ECF6\", \"width\": 0.5}}, \"type\": \"barpolar\"}], \"carpet\": [{\"aaxis\": {\"endlinecolor\": \"#2a3f5f\", \"gridcolor\": \"white\", \"linecolor\": \"white\", \"minorgridcolor\": \"white\", \"startlinecolor\": \"#2a3f5f\"}, \"baxis\": {\"endlinecolor\": \"#2a3f5f\", \"gridcolor\": \"white\", \"linecolor\": \"white\", \"minorgridcolor\": \"white\", \"startlinecolor\": \"#2a3f5f\"}, \"type\": \"carpet\"}], \"choropleth\": [{\"colorbar\": {\"outlinewidth\": 0, \"ticks\": \"\"}, \"type\": \"choropleth\"}], \"contour\": [{\"colorbar\": {\"outlinewidth\": 0, \"ticks\": \"\"}, \"colorscale\": [[0.0, \"#0d0887\"], [0.1111111111111111, \"#46039f\"], [0.2222222222222222, \"#7201a8\"], [0.3333333333333333, \"#9c179e\"], [0.4444444444444444, \"#bd3786\"], [0.5555555555555556, \"#d8576b\"], [0.6666666666666666, \"#ed7953\"], [0.7777777777777778, \"#fb9f3a\"], [0.8888888888888888, \"#fdca26\"], [1.0, \"#f0f921\"]], \"type\": \"contour\"}], \"contourcarpet\": [{\"colorbar\": {\"outlinewidth\": 0, \"ticks\": \"\"}, \"type\": \"contourcarpet\"}], \"heatmap\": [{\"colorbar\": {\"outlinewidth\": 0, \"ticks\": \"\"}, \"colorscale\": [[0.0, \"#0d0887\"], [0.1111111111111111, \"#46039f\"], [0.2222222222222222, \"#7201a8\"], [0.3333333333333333, \"#9c179e\"], [0.4444444444444444, \"#bd3786\"], [0.5555555555555556, \"#d8576b\"], [0.6666666666666666, \"#ed7953\"], [0.7777777777777778, \"#fb9f3a\"], [0.8888888888888888, \"#fdca26\"], [1.0, \"#f0f921\"]], \"type\": \"heatmap\"}], \"heatmapgl\": [{\"colorbar\": {\"outlinewidth\": 0, \"ticks\": \"\"}, \"colorscale\": [[0.0, \"#0d0887\"], [0.1111111111111111, \"#46039f\"], [0.2222222222222222, \"#7201a8\"], [0.3333333333333333, \"#9c179e\"], [0.4444444444444444, \"#bd3786\"], [0.5555555555555556, \"#d8576b\"], [0.6666666666666666, \"#ed7953\"], [0.7777777777777778, \"#fb9f3a\"], [0.8888888888888888, \"#fdca26\"], [1.0, \"#f0f921\"]], \"type\": \"heatmapgl\"}], \"histogram\": [{\"marker\": {\"colorbar\": {\"outlinewidth\": 0, \"ticks\": \"\"}}, \"type\": \"histogram\"}], \"histogram2d\": [{\"colorbar\": {\"outlinewidth\": 0, \"ticks\": \"\"}, \"colorscale\": [[0.0, \"#0d0887\"], [0.1111111111111111, \"#46039f\"], [0.2222222222222222, \"#7201a8\"], [0.3333333333333333, \"#9c179e\"], [0.4444444444444444, \"#bd3786\"], [0.5555555555555556, \"#d8576b\"], [0.6666666666666666, \"#ed7953\"], [0.7777777777777778, \"#fb9f3a\"], [0.8888888888888888, \"#fdca26\"], [1.0, \"#f0f921\"]], \"type\": \"histogram2d\"}], \"histogram2dcontour\": [{\"colorbar\": {\"outlinewidth\": 0, \"ticks\": \"\"}, \"colorscale\": [[0.0, \"#0d0887\"], [0.1111111111111111, \"#46039f\"], [0.2222222222222222, \"#7201a8\"], [0.3333333333333333, \"#9c179e\"], [0.4444444444444444, \"#bd3786\"], [0.5555555555555556, \"#d8576b\"], [0.6666666666666666, \"#ed7953\"], [0.7777777777777778, \"#fb9f3a\"], [0.8888888888888888, \"#fdca26\"], [1.0, \"#f0f921\"]], \"type\": \"histogram2dcontour\"}], \"mesh3d\": [{\"colorbar\": {\"outlinewidth\": 0, \"ticks\": \"\"}, \"type\": \"mesh3d\"}], \"parcoords\": [{\"line\": {\"colorbar\": {\"outlinewidth\": 0, \"ticks\": \"\"}}, \"type\": \"parcoords\"}], \"scatter\": [{\"marker\": {\"colorbar\": {\"outlinewidth\": 0, \"ticks\": \"\"}}, \"type\": \"scatter\"}], \"scatter3d\": [{\"line\": {\"colorbar\": {\"outlinewidth\": 0, \"ticks\": \"\"}}, \"marker\": {\"colorbar\": {\"outlinewidth\": 0, \"ticks\": \"\"}}, \"type\": \"scatter3d\"}], \"scattercarpet\": [{\"marker\": {\"colorbar\": {\"outlinewidth\": 0, \"ticks\": \"\"}}, \"type\": \"scattercarpet\"}], \"scattergeo\": [{\"marker\": {\"colorbar\": {\"outlinewidth\": 0, \"ticks\": \"\"}}, \"type\": \"scattergeo\"}], \"scattergl\": [{\"marker\": {\"colorbar\": {\"outlinewidth\": 0, \"ticks\": \"\"}}, \"type\": \"scattergl\"}], \"scattermapbox\": [{\"marker\": {\"colorbar\": {\"outlinewidth\": 0, \"ticks\": \"\"}}, \"type\": \"scattermapbox\"}], \"scatterpolar\": [{\"marker\": {\"colorbar\": {\"outlinewidth\": 0, \"ticks\": \"\"}}, \"type\": \"scatterpolar\"}], \"scatterpolargl\": [{\"marker\": {\"colorbar\": {\"outlinewidth\": 0, \"ticks\": \"\"}}, \"type\": \"scatterpolargl\"}], \"scatterternary\": [{\"marker\": {\"colorbar\": {\"outlinewidth\": 0, \"ticks\": \"\"}}, \"type\": \"scatterternary\"}], \"surface\": [{\"colorbar\": {\"outlinewidth\": 0, \"ticks\": \"\"}, \"colorscale\": [[0.0, \"#0d0887\"], [0.1111111111111111, \"#46039f\"], [0.2222222222222222, \"#7201a8\"], [0.3333333333333333, \"#9c179e\"], [0.4444444444444444, \"#bd3786\"], [0.5555555555555556, \"#d8576b\"], [0.6666666666666666, \"#ed7953\"], [0.7777777777777778, \"#fb9f3a\"], [0.8888888888888888, \"#fdca26\"], [1.0, \"#f0f921\"]], \"type\": \"surface\"}], \"table\": [{\"cells\": {\"fill\": {\"color\": \"#EBF0F8\"}, \"line\": {\"color\": \"white\"}}, \"header\": {\"fill\": {\"color\": \"#C8D4E3\"}, \"line\": {\"color\": \"white\"}}, \"type\": \"table\"}]}, \"layout\": {\"annotationdefaults\": {\"arrowcolor\": \"#2a3f5f\", \"arrowhead\": 0, \"arrowwidth\": 1}, \"colorscale\": {\"diverging\": [[0, \"#8e0152\"], [0.1, \"#c51b7d\"], [0.2, \"#de77ae\"], [0.3, \"#f1b6da\"], [0.4, \"#fde0ef\"], [0.5, \"#f7f7f7\"], [0.6, \"#e6f5d0\"], [0.7, \"#b8e186\"], [0.8, \"#7fbc41\"], [0.9, \"#4d9221\"], [1, \"#276419\"]], \"sequential\": [[0.0, \"#0d0887\"], [0.1111111111111111, \"#46039f\"], [0.2222222222222222, \"#7201a8\"], [0.3333333333333333, \"#9c179e\"], [0.4444444444444444, \"#bd3786\"], [0.5555555555555556, \"#d8576b\"], [0.6666666666666666, \"#ed7953\"], [0.7777777777777778, \"#fb9f3a\"], [0.8888888888888888, \"#fdca26\"], [1.0, \"#f0f921\"]], \"sequentialminus\": [[0.0, \"#0d0887\"], [0.1111111111111111, \"#46039f\"], [0.2222222222222222, \"#7201a8\"], [0.3333333333333333, \"#9c179e\"], [0.4444444444444444, \"#bd3786\"], [0.5555555555555556, \"#d8576b\"], [0.6666666666666666, \"#ed7953\"], [0.7777777777777778, \"#fb9f3a\"], [0.8888888888888888, \"#fdca26\"], [1.0, \"#f0f921\"]]}, \"colorway\": [\"#636efa\", \"#EF553B\", \"#00cc96\", \"#ab63fa\", \"#FFA15A\", \"#19d3f3\", \"#FF6692\", \"#B6E880\", \"#FF97FF\", \"#FECB52\"], \"font\": {\"color\": \"#2a3f5f\"}, \"geo\": {\"bgcolor\": \"white\", \"lakecolor\": \"white\", \"landcolor\": \"#E5ECF6\", \"showlakes\": true, \"showland\": true, \"subunitcolor\": \"white\"}, \"hoverlabel\": {\"align\": \"left\"}, \"hovermode\": \"closest\", \"mapbox\": {\"style\": \"light\"}, \"paper_bgcolor\": \"white\", \"plot_bgcolor\": \"#E5ECF6\", \"polar\": {\"angularaxis\": {\"gridcolor\": \"white\", \"linecolor\": \"white\", \"ticks\": \"\"}, \"bgcolor\": \"#E5ECF6\", \"radialaxis\": {\"gridcolor\": \"white\", \"linecolor\": \"white\", \"ticks\": \"\"}}, \"scene\": {\"xaxis\": {\"backgroundcolor\": \"#E5ECF6\", \"gridcolor\": \"white\", \"gridwidth\": 2, \"linecolor\": \"white\", \"showbackground\": true, \"ticks\": \"\", \"zerolinecolor\": \"white\"}, \"yaxis\": {\"backgroundcolor\": \"#E5ECF6\", \"gridcolor\": \"white\", \"gridwidth\": 2, \"linecolor\": \"white\", \"showbackground\": true, \"ticks\": \"\", \"zerolinecolor\": \"white\"}, \"zaxis\": {\"backgroundcolor\": \"#E5ECF6\", \"gridcolor\": \"white\", \"gridwidth\": 2, \"linecolor\": \"white\", \"showbackground\": true, \"ticks\": \"\", \"zerolinecolor\": \"white\"}}, \"shapedefaults\": {\"line\": {\"color\": \"#2a3f5f\"}}, \"ternary\": {\"aaxis\": {\"gridcolor\": \"white\", \"linecolor\": \"white\", \"ticks\": \"\"}, \"baxis\": {\"gridcolor\": \"white\", \"linecolor\": \"white\", \"ticks\": \"\"}, \"bgcolor\": \"#E5ECF6\", \"caxis\": {\"gridcolor\": \"white\", \"linecolor\": \"white\", \"ticks\": \"\"}}, \"title\": {\"x\": 0.05}, \"xaxis\": {\"automargin\": true, \"gridcolor\": \"white\", \"linecolor\": \"white\", \"ticks\": \"\", \"zerolinecolor\": \"white\", \"zerolinewidth\": 2}, \"yaxis\": {\"automargin\": true, \"gridcolor\": \"white\", \"linecolor\": \"white\", \"ticks\": \"\", \"zerolinecolor\": \"white\", \"zerolinewidth\": 2}}}, \"title\": {\"text\": \"Train and Test Label Counts\"}, \"xaxis\": {\"tickangle\": -45}},\n",
       "                        {\"responsive\": true}\n",
       "                    ).then(function(){\n",
       "                            \n",
       "var gd = document.getElementById('1d1e5171-6a8c-4721-a5e0-3c6a195adcbd');\n",
       "var x = new MutationObserver(function (mutations, observer) {{\n",
       "        var display = window.getComputedStyle(gd).display;\n",
       "        if (!display || display === 'none') {{\n",
       "            console.log([gd, 'removed!']);\n",
       "            Plotly.purge(gd);\n",
       "            observer.disconnect();\n",
       "        }}\n",
       "}});\n",
       "\n",
       "// Listen for the removal of the full notebook cells\n",
       "var notebookContainer = gd.closest('#notebook-container');\n",
       "if (notebookContainer) {{\n",
       "    x.observe(notebookContainer, {childList: true});\n",
       "}}\n",
       "\n",
       "// Listen for the clearing of the current output cell\n",
       "var outputEl = gd.closest('.output');\n",
       "if (outputEl) {{\n",
       "    x.observe(outputEl, {childList: true});\n",
       "}}\n",
       "\n",
       "                        })\n",
       "                };\n",
       "                });\n",
       "            </script>\n",
       "        </div>"
      ]
     },
     "metadata": {},
     "output_type": "display_data"
    }
   ],
   "source": [
    "import plotly.graph_objs as go\n",
    "\n",
    "data = [\n",
    "    go.Bar(\n",
    "        x=df['combined_labels'], # assign x as the dataframe column 'x'\n",
    "        y=df['train'],\n",
    "        name='train'\n",
    "    ),\n",
    "    go.Bar(\n",
    "        x=df['combined_labels'],\n",
    "        y=df['test'],\n",
    "        name='test'\n",
    "    )\n",
    "]\n",
    "\n",
    "layout = go.Layout(\n",
    "    barmode='stack',\n",
    "    title='Train and Test Label Counts',\n",
    "    xaxis_tickangle=-45\n",
    ")\n",
    "\n",
    "fig = go.Figure(data=data, layout=layout)\n",
    "\n",
    "fig.write_html('plotlystackedcounts.html', auto_open=True)\n",
    "fig.show()"
   ]
  },
  {
   "cell_type": "markdown",
   "metadata": {},
   "source": [
    "## Simple Classifier \n",
    "\n",
    "### Set up Code"
   ]
  },
  {
   "cell_type": "code",
   "execution_count": 41,
   "metadata": {},
   "outputs": [],
   "source": [
    "from sklearn import metrics\n",
    "from sklearn.feature_extraction.text import CountVectorizer, TfidfVectorizer \n",
    "from sklearn.metrics import classification_report, confusion_matrix, accuracy_score, f1_score\n",
    "from sklearn.model_selection import train_test_split \n",
    "from sklearn.linear_model import LogisticRegressionCV\n",
    "from sklearn.pipeline import make_pipeline"
   ]
  },
  {
   "cell_type": "code",
   "execution_count": 45,
   "metadata": {},
   "outputs": [],
   "source": [
    "def run_classifier(data_train, data_test, label = 'Guns'):\n",
    "    results = pd.DataFrame(columns=['classifier', 'vectorizer', 'precision', 'recall', 'fscore', 'label'])\n",
    "    clf = LogisticRegressionCV(class_weight='balanced')\n",
    "    \n",
    "    vec = TfidfVectorizer(ngram_range=(3, 10), min_df=10, max_df=0.9, analyzer='char')\n",
    "    pipe = make_pipeline(vec, clf)\n",
    "    pipe.fit(data_train.excerpt, list(data_train.loc[:,label].values))\n",
    "\n",
    "    # test\n",
    "    y_test = list(data_test[label].values)\n",
    "    y_pred = pipe.predict(data_test.excerpt)\n",
    "    precision, recall, fscore, support \\\n",
    "        = metrics.precision_recall_fscore_support(y_test, y_pred, average='binary', pos_label=1)\n",
    "\n",
    "    # save results\n",
    "    results_row = {'precision': precision, 'recall': recall, 'fscore':fscore,\n",
    "                   'label': label}\n",
    "    print(results_row)\n",
    "    results = results.append(results_row, ignore_index=True)\n",
    "\n",
    "    return results"
   ]
  },
  {
   "cell_type": "code",
   "execution_count": 46,
   "metadata": {},
   "outputs": [],
   "source": [
    "from sklearn.utils.multiclass import check_classification_targets\n",
    "check_classification_targets(list(train_merged.loc[:,'Guns'].values))"
   ]
  },
  {
   "cell_type": "markdown",
   "metadata": {},
   "source": [
    "### Guns"
   ]
  },
  {
   "cell_type": "code",
   "execution_count": 47,
   "metadata": {},
   "outputs": [
    {
     "name": "stderr",
     "output_type": "stream",
     "text": [
      "/anaconda3/envs/py36/lib/python3.6/site-packages/sklearn/model_selection/_split.py:1978: FutureWarning: The default value of cv will change from 3 to 5 in version 0.22. Specify it explicitly to silence this warning.\n",
      "  warnings.warn(CV_WARNING, FutureWarning)\n"
     ]
    },
    {
     "name": "stdout",
     "output_type": "stream",
     "text": [
      "{'precision': 0.9572192513368984, 'recall': 0.9572192513368984, 'fscore': 0.9572192513368984, 'label': 'Guns'}\n"
     ]
    }
   ],
   "source": [
    "guns_result = run_classifier(train_merged, test_merged, label = 'Guns')"
   ]
  },
  {
   "cell_type": "markdown",
   "metadata": {},
   "source": [
    "### Mental Health"
   ]
  },
  {
   "cell_type": "code",
   "execution_count": 48,
   "metadata": {},
   "outputs": [
    {
     "name": "stderr",
     "output_type": "stream",
     "text": [
      "/anaconda3/envs/py36/lib/python3.6/site-packages/sklearn/model_selection/_split.py:1978: FutureWarning: The default value of cv will change from 3 to 5 in version 0.22. Specify it explicitly to silence this warning.\n",
      "  warnings.warn(CV_WARNING, FutureWarning)\n"
     ]
    },
    {
     "name": "stdout",
     "output_type": "stream",
     "text": [
      "{'precision': 0.8723404255319149, 'recall': 0.6949152542372882, 'fscore': 0.7735849056603775, 'label': 'MentalHealth'}\n"
     ]
    }
   ],
   "source": [
    "mh_result = run_classifier(train_merged, test_merged, label = 'MentalHealth')"
   ]
  },
  {
   "cell_type": "markdown",
   "metadata": {},
   "source": [
    "### OtherAdv"
   ]
  },
  {
   "cell_type": "code",
   "execution_count": 49,
   "metadata": {},
   "outputs": [
    {
     "name": "stderr",
     "output_type": "stream",
     "text": [
      "/anaconda3/envs/py36/lib/python3.6/site-packages/sklearn/model_selection/_split.py:1978: FutureWarning: The default value of cv will change from 3 to 5 in version 0.22. Specify it explicitly to silence this warning.\n",
      "  warnings.warn(CV_WARNING, FutureWarning)\n"
     ]
    },
    {
     "name": "stdout",
     "output_type": "stream",
     "text": [
      "{'precision': 0.6396396396396397, 'recall': 0.7029702970297029, 'fscore': 0.669811320754717, 'label': 'OtherAdv'}\n"
     ]
    }
   ],
   "source": [
    "oa_result = run_classifier(train_merged, test_merged, label = 'OtherAdv')"
   ]
  },
  {
   "cell_type": "markdown",
   "metadata": {},
   "source": [
    "### Practice"
   ]
  },
  {
   "cell_type": "code",
   "execution_count": 50,
   "metadata": {},
   "outputs": [
    {
     "name": "stderr",
     "output_type": "stream",
     "text": [
      "/anaconda3/envs/py36/lib/python3.6/site-packages/sklearn/model_selection/_split.py:1978: FutureWarning: The default value of cv will change from 3 to 5 in version 0.22. Specify it explicitly to silence this warning.\n",
      "  warnings.warn(CV_WARNING, FutureWarning)\n"
     ]
    },
    {
     "name": "stdout",
     "output_type": "stream",
     "text": [
      "{'precision': 0.7142857142857143, 'recall': 0.5, 'fscore': 0.588235294117647, 'label': 'Practice'}\n"
     ]
    }
   ],
   "source": [
    "practice_result = run_classifier(train_merged, test_merged, label = 'Practice')"
   ]
  },
  {
   "cell_type": "code",
   "execution_count": null,
   "metadata": {},
   "outputs": [],
   "source": []
  }
 ],
 "metadata": {
  "kernelspec": {
   "display_name": "Python 3",
   "language": "python",
   "name": "python3"
  },
  "language_info": {
   "codemirror_mode": {
    "name": "ipython",
    "version": 3
   },
   "file_extension": ".py",
   "mimetype": "text/x-python",
   "name": "python",
   "nbconvert_exporter": "python",
   "pygments_lexer": "ipython3",
   "version": "3.6.9"
  }
 },
 "nbformat": 4,
 "nbformat_minor": 2
}
